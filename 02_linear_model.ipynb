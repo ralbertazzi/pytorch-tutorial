{
 "cells": [
  {
   "cell_type": "markdown",
   "metadata": {},
   "source": [
    "# First real PyTorch model and training"
   ]
  },
  {
   "cell_type": "code",
   "execution_count": 1,
   "metadata": {
    "collapsed": true
   },
   "outputs": [],
   "source": [
    "import torch\n",
    "from torch.autograd import Variable\n",
    "import numpy as np"
   ]
  },
  {
   "cell_type": "markdown",
   "metadata": {},
   "source": [
    "#### Load the dataset into a torch Variable"
   ]
  },
  {
   "cell_type": "code",
   "execution_count": 2,
   "metadata": {
    "collapsed": true
   },
   "outputs": [],
   "source": [
    "xy = np.loadtxt('data/data-diabetes.csv', delimiter=',', dtype=np.float32)\n",
    "x_data = Variable(torch.from_numpy(xy[:, :-1]))\n",
    "y_data = Variable(torch.from_numpy(xy[:, -1].reshape(-1, 1)))"
   ]
  },
  {
   "cell_type": "markdown",
   "metadata": {},
   "source": [
    "#### Define the model\n",
    "\n",
    "The model must declare a __forward__ method that takes the input data and returns the output data"
   ]
  },
  {
   "cell_type": "code",
   "execution_count": 3,
   "metadata": {},
   "outputs": [
    {
     "name": "stdout",
     "output_type": "stream",
     "text": [
      "Model(\n",
      "  (l1): Linear(in_features=8, out_features=60, bias=True)\n",
      "  (l2): Linear(in_features=60, out_features=10, bias=True)\n",
      "  (l3): Linear(in_features=10, out_features=1, bias=True)\n",
      ")\n"
     ]
    }
   ],
   "source": [
    "class Model(torch.nn.Module):\n",
    "    def __init__(self):\n",
    "        \"\"\"\n",
    "        In the constructor we instantiate the layers with weights\n",
    "        \"\"\"\n",
    "        super(Model, self).__init__()\n",
    "\n",
    "        self.l1 = torch.nn.Linear(8, 60)\n",
    "        self.l2 = torch.nn.Linear(60, 10)\n",
    "        self.l3 = torch.nn.Linear(10, 1)\n",
    "\n",
    "    def forward(self, x):\n",
    "        \"\"\"\n",
    "        In the forward function we accept a Variable of input data\n",
    "        and we must return a Variable of output data. We can use\n",
    "        Modules defined in the constructor as well as arbitrary\n",
    "        operators on Variables\n",
    "        \"\"\"\n",
    "        out1 = self.l1(x).relu()\n",
    "        out2 = self.l2(out1).relu()\n",
    "        y_pred = self.l3(out2).sigmoid()\n",
    "        return y_pred\n",
    "\n",
    "model = Model()\n",
    "print(model)"
   ]
  },
  {
   "cell_type": "markdown",
   "metadata": {},
   "source": [
    "#### Construct our loss function and an optimizer\n",
    "The call to model.parameters() in the SGD constructor will contain the learnable parameters of the modules which are members of the model"
   ]
  },
  {
   "cell_type": "code",
   "execution_count": 4,
   "metadata": {
    "collapsed": true
   },
   "outputs": [],
   "source": [
    "criterion = torch.nn.BCELoss()   # binary cross entropy\n",
    "optimizer = torch.optim.SGD(model.parameters(), lr=0.1)"
   ]
  },
  {
   "cell_type": "markdown",
   "metadata": {},
   "source": [
    "#### Train the model"
   ]
  },
  {
   "cell_type": "code",
   "execution_count": 5,
   "metadata": {},
   "outputs": [
    {
     "name": "stdout",
     "output_type": "stream",
     "text": [
      "0 tensor(0.6847)\n",
      "1000 tensor(0.4354)\n",
      "2000 tensor(0.4127)\n",
      "3000 tensor(0.3969)\n",
      "4000 tensor(0.3901)\n",
      "5000 tensor(0.3802)\n",
      "6000 tensor(0.3719)\n",
      "7000 tensor(0.3564)\n",
      "8000 tensor(0.3497)\n",
      "9000 tensor(0.3367)\n",
      "10000 tensor(0.3288)\n"
     ]
    }
   ],
   "source": [
    "for epoch in range(10001):\n",
    "    y_pred = model(x_data)\n",
    "    loss = criterion(y_pred, y_data)\n",
    "\n",
    "    if epoch % 1000 == 0:\n",
    "        print(epoch, loss.data)\n",
    "\n",
    "    optimizer.zero_grad()  # zero gradient buffers\n",
    "    loss.backward()        # computes gradients\n",
    "    optimizer.step()       # does the update"
   ]
  }
 ],
 "metadata": {
  "kernelspec": {
   "display_name": "Python 3",
   "language": "python",
   "name": "python3"
  },
  "language_info": {
   "codemirror_mode": {
    "name": "ipython",
    "version": 3
   },
   "file_extension": ".py",
   "mimetype": "text/x-python",
   "name": "python",
   "nbconvert_exporter": "python",
   "pygments_lexer": "ipython3",
   "version": "3.6.1"
  }
 },
 "nbformat": 4,
 "nbformat_minor": 2
}
