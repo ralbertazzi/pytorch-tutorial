{
 "cells": [
  {
   "cell_type": "markdown",
   "metadata": {},
   "source": [
    "# Linear Regression on PyTorch (1)"
   ]
  },
  {
   "cell_type": "markdown",
   "metadata": {},
   "source": [
    "#### Import PyTorch"
   ]
  },
  {
   "cell_type": "code",
   "execution_count": 1,
   "metadata": {},
   "outputs": [],
   "source": [
    "import torch\n",
    "from torch.autograd import Variable"
   ]
  },
  {
   "cell_type": "markdown",
   "metadata": {},
   "source": [
    "#### Define the dataset"
   ]
  },
  {
   "cell_type": "code",
   "execution_count": 2,
   "metadata": {},
   "outputs": [],
   "source": [
    "x_data = [1.0, 2.0, 3.0]\n",
    "y_data = [2.0, 4.0, 6.0]"
   ]
  },
  {
   "cell_type": "markdown",
   "metadata": {},
   "source": [
    "#### Create weights and define forward pass and loss function"
   ]
  },
  {
   "cell_type": "code",
   "execution_count": 3,
   "metadata": {},
   "outputs": [],
   "source": [
    "w = Variable(torch.Tensor([1.0]), requires_grad=True)\n",
    "\n",
    "def forward(x):\n",
    "    return x * w\n",
    "\n",
    "def loss(x, y):\n",
    "    y_pred = forward(x)\n",
    "    return (y_pred - y) ** 2"
   ]
  },
  {
   "cell_type": "markdown",
   "metadata": {},
   "source": [
    "#### Train by explicitly performing gradient descent"
   ]
  },
  {
   "cell_type": "code",
   "execution_count": 4,
   "metadata": {
    "scrolled": false
   },
   "outputs": [
    {
     "name": "stdout",
     "output_type": "stream",
     "text": [
      "grad:  1.0 2.0 tensor([-2.])\n",
      "grad:  2.0 4.0 tensor([-7.6800])\n",
      "grad:  3.0 6.0 tensor([-14.5152])\n",
      "progress: 0 loss: tensor([5.8525]) slope: tensor([1.4839]) \n",
      "\n",
      "grad:  1.0 2.0 tensor([-1.0322])\n",
      "grad:  2.0 4.0 tensor([-3.9636])\n",
      "grad:  3.0 6.0 tensor([-7.4912])\n",
      "progress: 1 loss: tensor([1.5589]) slope: tensor([1.7336]) \n",
      "\n",
      "grad:  1.0 2.0 tensor([-0.5327])\n",
      "grad:  2.0 4.0 tensor([-2.0456])\n",
      "grad:  3.0 6.0 tensor([-3.8662])\n",
      "progress: 2 loss: tensor([0.4152]) slope: tensor([1.8625]) \n",
      "\n",
      "grad:  1.0 2.0 tensor([-0.2749])\n",
      "grad:  2.0 4.0 tensor([-1.0557])\n",
      "grad:  3.0 6.0 tensor([-1.9953])\n",
      "progress: 3 loss: tensor([0.1106]) slope: tensor([1.9291]) \n",
      "\n",
      "grad:  1.0 2.0 tensor([-0.1419])\n",
      "grad:  2.0 4.0 tensor([-0.5449])\n",
      "grad:  3.0 6.0 tensor([-1.0298])\n",
      "progress: 4 loss: tensor([0.0295]) slope: tensor([1.9634]) \n",
      "\n"
     ]
    }
   ],
   "source": [
    "for epoch in range(5):\n",
    "    for x_val, y_val in zip(x_data, y_data):\n",
    "        l = loss(x_val, y_val)\n",
    "        l.backward()\n",
    "        print('grad: ', x_val, y_val, w.grad.data)\n",
    "        w.data = w.data - 0.02 * w.grad.data\n",
    "        \n",
    "        # Manually zero the gradients after updating weights\n",
    "        w.grad.data.zero_()\n",
    "        \n",
    "    print('progress:', epoch, 'loss:', l.data, 'slope:', w.data, '\\n')"
   ]
  },
  {
   "cell_type": "markdown",
   "metadata": {},
   "source": [
    "#### Make predictions"
   ]
  },
  {
   "cell_type": "code",
   "execution_count": 5,
   "metadata": {},
   "outputs": [
    {
     "data": {
      "text/plain": [
       "tensor([7.8535])"
      ]
     },
     "execution_count": 5,
     "metadata": {},
     "output_type": "execute_result"
    }
   ],
   "source": [
    "forward(4).data"
   ]
  }
 ],
 "metadata": {
  "kernelspec": {
   "display_name": "Python 3",
   "language": "python",
   "name": "python3"
  },
  "language_info": {
   "codemirror_mode": {
    "name": "ipython",
    "version": 3
   },
   "file_extension": ".py",
   "mimetype": "text/x-python",
   "name": "python",
   "nbconvert_exporter": "python",
   "pygments_lexer": "ipython3",
   "version": "3.5.2"
  }
 },
 "nbformat": 4,
 "nbformat_minor": 2
}
